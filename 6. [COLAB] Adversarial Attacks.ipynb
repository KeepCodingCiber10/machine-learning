{
 "cells": [
  {
   "cell_type": "markdown",
   "id": "566ccfc2-1e38-482d-a9bd-065c8e5c4362",
   "metadata": {},
   "source": [
    "# Adversarial Attacks con ART\n",
    "\n",
    "## Ejecutar en colab\n",
    "\n",
    "https://colab.research.google.com/"
   ]
  },
  {
   "cell_type": "code",
   "execution_count": 1,
   "id": "f45b707f-7648-45f8-9196-11a954502cce",
   "metadata": {},
   "outputs": [
    {
     "name": "stdout",
     "output_type": "stream",
     "text": [
      "\u001b[1;31merror\u001b[0m: \u001b[1mexternally-managed-environment\u001b[0m\n",
      "\n",
      "\u001b[31m×\u001b[0m This environment is externally managed\n",
      "\u001b[31m╰─>\u001b[0m To install Python packages system-wide, try apt install\n",
      "\u001b[31m   \u001b[0m python3-xyz, where xyz is the package you are trying to\n",
      "\u001b[31m   \u001b[0m install.\n",
      "\u001b[31m   \u001b[0m \n",
      "\u001b[31m   \u001b[0m If you wish to install a non-Debian-packaged Python package,\n",
      "\u001b[31m   \u001b[0m create a virtual environment using python3 -m venv path/to/venv.\n",
      "\u001b[31m   \u001b[0m Then use path/to/venv/bin/python and path/to/venv/bin/pip. Make\n",
      "\u001b[31m   \u001b[0m sure you have python3-full installed.\n",
      "\u001b[31m   \u001b[0m \n",
      "\u001b[31m   \u001b[0m If you wish to install a non-Debian packaged Python application,\n",
      "\u001b[31m   \u001b[0m it may be easiest to use pipx install xyz, which will manage a\n",
      "\u001b[31m   \u001b[0m virtual environment for you. Make sure you have pipx installed.\n",
      "\u001b[31m   \u001b[0m \n",
      "\u001b[31m   \u001b[0m See /usr/share/doc/python3.11/README.venv for more information.\n",
      "\n",
      "\u001b[1;35mnote\u001b[0m: If you believe this is a mistake, please contact your Python installation or OS distribution provider. You can override this, at the risk of breaking your Python installation or OS, by passing --break-system-packages.\n",
      "\u001b[1;36mhint\u001b[0m: See PEP 668 for the detailed specification.\n"
     ]
    },
    {
     "ename": "ModuleNotFoundError",
     "evalue": "No module named 'art'",
     "output_type": "error",
     "traceback": [
      "\u001b[31m---------------------------------------------------------------------------\u001b[39m",
      "\u001b[31mModuleNotFoundError\u001b[39m                       Traceback (most recent call last)",
      "\u001b[36mCell\u001b[39m\u001b[36m \u001b[39m\u001b[32mIn[1]\u001b[39m\u001b[32m, line 14\u001b[39m\n\u001b[32m     12\u001b[39m \u001b[38;5;28;01mfrom\u001b[39;00m\u001b[38;5;250m \u001b[39m\u001b[34;01msklearn\u001b[39;00m\u001b[34;01m.\u001b[39;00m\u001b[34;01mensemble\u001b[39;00m\u001b[38;5;250m \u001b[39m\u001b[38;5;28;01mimport\u001b[39;00m RandomForestClassifier\n\u001b[32m     13\u001b[39m \u001b[38;5;28;01mfrom\u001b[39;00m\u001b[38;5;250m \u001b[39m\u001b[34;01msklearn\u001b[39;00m\u001b[34;01m.\u001b[39;00m\u001b[34;01mmetrics\u001b[39;00m\u001b[38;5;250m \u001b[39m\u001b[38;5;28;01mimport\u001b[39;00m accuracy_score\n\u001b[32m---> \u001b[39m\u001b[32m14\u001b[39m \u001b[38;5;28;01mfrom\u001b[39;00m\u001b[38;5;250m \u001b[39m\u001b[34;01mart\u001b[39;00m\u001b[34;01m.\u001b[39;00m\u001b[34;01mestimators\u001b[39;00m\u001b[34;01m.\u001b[39;00m\u001b[34;01mclassification\u001b[39;00m\u001b[38;5;250m \u001b[39m\u001b[38;5;28;01mimport\u001b[39;00m ScikitLearnClassifier\n\u001b[32m     15\u001b[39m \u001b[38;5;28;01mfrom\u001b[39;00m\u001b[38;5;250m \u001b[39m\u001b[34;01mart\u001b[39;00m\u001b[34;01m.\u001b[39;00m\u001b[34;01mattacks\u001b[39;00m\u001b[34;01m.\u001b[39;00m\u001b[34;01mevasion\u001b[39;00m\u001b[38;5;250m \u001b[39m\u001b[38;5;28;01mimport\u001b[39;00m FastGradientMethod\n\u001b[32m     16\u001b[39m \u001b[38;5;28;01mfrom\u001b[39;00m\u001b[38;5;250m \u001b[39m\u001b[34;01mart\u001b[39;00m\u001b[34;01m.\u001b[39;00m\u001b[34;01mdefences\u001b[39;00m\u001b[34;01m.\u001b[39;00m\u001b[34;01mtrainer\u001b[39;00m\u001b[38;5;250m \u001b[39m\u001b[38;5;28;01mimport\u001b[39;00m AdversarialTrainer\n",
      "\u001b[31mModuleNotFoundError\u001b[39m: No module named 'art'"
     ]
    }
   ],
   "source": [
    "# Ejercicio de Lab: Ataques Adversarios con ART en Detección de Phishing\n",
    "# Objetivo: Entrenar un clasificador simple, atacarlo con FGSM, y defenderlo con training adversarial.\n",
    "# Dataset: Phishing Websites (numérico, clasificación binaria: phishing vs. legítimo).\n",
    "# Requisitos: Ejecutar en Google Colab.\n",
    "\n",
    "# Paso 1: Instalación de dependencias\n",
    "!pip install adversarial-robustness-toolbox pandas scikit-learn numpy requests\n",
    "\n",
    "import numpy as np\n",
    "import pandas as pd\n",
    "from sklearn.model_selection import train_test_split\n",
    "from sklearn.ensemble import RandomForestClassifier\n",
    "from sklearn.metrics import accuracy_score\n",
    "from art.estimators.classification import ScikitLearnClassifier\n",
    "from art.attacks.evasion import FastGradientMethod\n",
    "from art.defences.trainer import AdversarialTrainer\n",
    "\n",
    "# Paso 2: Cargar dataset (Phishing Websites de UCI - todas features numéricas)\n",
    "# Descargar directamente (ZIP contiene 'phishing.csv')\n",
    "import requests\n",
    "import zipfile\n",
    "import io\n",
    "\n",
    "url = \"https://archive.ics.uci.edu/static/public/327/data.zip\"\n",
    "response = requests.get(url)\n",
    "zip_file = zipfile.ZipFile(io.BytesIO(response.content))\n",
    "zip_file.extractall()  # Extrae 'phishing.csv'\n",
    "\n",
    "data = pd.read_csv('phishing.csv')  # Ajusta si el nombre es diferente\n",
    "X = data.iloc[:, :-1].values  # Features numéricas\n",
    "y = data.iloc[:, -1].values   # Labels (1: phishing, -1: legítimo - ajusta si es 0/1)\n",
    "\n",
    "# Preprocesar: Ajustar labels a 0/1 para compatibilidad\n",
    "y = np.where(y == -1, 0, y)  # Convertir -1 a 0 si es necesario\n",
    "\n",
    "# Split en train/test\n",
    "X_train, X_test, y_train, y_test = train_test_split(X, y, test_size=0.2, random_state=42)\n",
    "\n",
    "# Paso 3: Entrenar modelo base (Random Forest - simple y efectivo para cyber)\n",
    "model = RandomForestClassifier(n_estimators=100, random_state=42)\n",
    "model.fit(X_train, y_train)\n",
    "\n",
    "# Evaluar modelo base\n",
    "y_pred = model.predict(X_test)\n",
    "base_accuracy = accuracy_score(y_test, y_pred)\n",
    "print(f\"Accuracy del modelo base: {base_accuracy:.4f}\")\n",
    "\n",
    "# Paso 4: Wrap con ART\n",
    "classifier = ScikitLearnClassifier(model=model)\n",
    "\n",
    "# Paso 5: Ataque FGSM (evasión)\n",
    "attack = FastGradientMethod(estimator=classifier, eps=0.2)  # eps: intensidad del ruido\n",
    "X_test_adv = attack.generate(x=X_test)\n",
    "\n",
    "# Evaluar en datos adversarios\n",
    "y_pred_adv = model.predict(X_test_adv)\n",
    "adv_accuracy = accuracy_score(y_test, y_pred_adv)\n",
    "print(f\"Accuracy bajo ataque FGSM: {adv_accuracy:.4f}\")\n",
    "\n",
    "# Paso 6: Defensa - Adversarial Training\n",
    "# Crear trainer con el ataque\n",
    "trainer = AdversarialTrainer(classifier=ScikitLearnClassifier(model=RandomForestClassifier(n_estimators=100, random_state=42)),\n",
    "                             attacks=attack)\n",
    "\n",
    "# Entrenar robusto (puede tardar más)\n",
    "trainer.fit(X_train, y_train)\n",
    "\n",
    "# Evaluar modelo robusto en datos adversarios\n",
    "robust_model = trainer.get_classifier().model  # Extraer el modelo entrenado\n",
    "y_pred_robust_adv = robust_model.predict(X_test_adv)\n",
    "robust_adv_accuracy = accuracy_score(y_test, y_pred_robust_adv)\n",
    "print(f\"Accuracy del modelo robusto bajo ataque: {robust_adv_accuracy:.4f}\")\n",
    "\n",
    "# Conclusión: Compara accuracies para ver el impacto del ataque y la defensa.\n",
    "# Ejercicio extra: Ajusta eps o prueba con otro dataset/ataque (e.g., PGD)."
   ]
  },
  {
   "cell_type": "code",
   "execution_count": null,
   "id": "ffef5f1c-9237-4d03-b47d-e245edac68ff",
   "metadata": {},
   "outputs": [],
   "source": []
  }
 ],
 "metadata": {
  "kernelspec": {
   "display_name": "Python 3 (ipykernel)",
   "language": "python",
   "name": "python3"
  },
  "language_info": {
   "codemirror_mode": {
    "name": "ipython",
    "version": 3
   },
   "file_extension": ".py",
   "mimetype": "text/x-python",
   "name": "python",
   "nbconvert_exporter": "python",
   "pygments_lexer": "ipython3",
   "version": "3.11.2"
  }
 },
 "nbformat": 4,
 "nbformat_minor": 5
}
